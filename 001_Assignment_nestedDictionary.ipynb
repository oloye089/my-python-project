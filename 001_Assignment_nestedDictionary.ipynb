{
 "cells": [
  {
   "cell_type": "markdown",
   "id": "9ceb4b9c",
   "metadata": {},
   "source": [
    "### using an input function in python\n",
    "username = input(\"Enter your username: \")\n",
    "address = input(\"Enter your address: \")\n",
    "age = int(input(\"Enter your age: \"))\n",
    "phoneNo = input(\"Enter your phone Number: \")\n",
    "\n",
    "print(\"My name is\", username, \"I am\", age, \"years old. I live in \", address, \"You can reach me on\", phoneNo)"
   ]
  },
  {
   "cell_type": "code",
   "execution_count": 2,
   "id": "b3458e6e",
   "metadata": {},
   "outputs": [
    {
     "name": "stdout",
     "output_type": "stream",
     "text": [
      "Enter your name: Oloyede Hammed\n",
      "Enter your email: oloyedehammed089@gmail.com\n",
      "Enter your address: No 33(c),Fatai Azeez Street, Off Ilesha Garage Oshogbo \n",
      "enter your lga:Ayedaade Local Govt\n",
      "The Physics student's name is Oloyede Hammed\n",
      "His school email address as a student is oloyedehammed089@gmail.com\n",
      "He lives in No 33(c),Fatai Azeez Street, Off Ilesha Garage Oshogbo \n",
      "his lga is Ayedaade Local Govt\n"
     ]
    }
   ],
   "source": [
    "# Students Info\n",
    "students_name = input(\"Enter your name: \")\n",
    "students_email = input(\"Enter your email: \")\n",
    "students_address = input(\"Enter your address: \")\n",
    "students_lga = input(\"enter your lga:\")\n",
    "print(\"The Physics student's name is\",students_name)\n",
    "print(\"His school email address as a student is\",students_email)\n",
    "print(\"He lives in\",students_address)\n",
    "print(\"his lga is\",students_lga)"
   ]
  },
  {
   "cell_type": "code",
   "execution_count": 4,
   "id": "fcdd649d",
   "metadata": {},
   "outputs": [
    {
     "name": "stdout",
     "output_type": "stream",
     "text": [
      "<class 'int'>\n",
      "<class 'str'>\n",
      "<class 'bool'>\n",
      "<class 'float'>\n"
     ]
    }
   ],
   "source": [
    "a=10\n",
    "b=\"name\"\n",
    "c= True\n",
    "d= 300.0\n",
    "print (type(a))\n",
    "print (type(b))\n",
    "print (type(c))\n",
    "print(type(d))\n",
    "\n"
   ]
  },
  {
   "cell_type": "code",
   "execution_count": 10,
   "id": "02caf53f",
   "metadata": {},
   "outputs": [
    {
     "name": "stdout",
     "output_type": "stream",
     "text": [
      "3\n",
      "3\n",
      "200.0\n",
      "55\n",
      "(1+0j)\n"
     ]
    }
   ],
   "source": [
    "value1= float(200)\n",
    "value2= int(55.667)\n",
    "value3=complex(1)\n",
    "#value4= str(1)\n",
    "#value5= str(2)\n",
    "value4_1= int(1)\n",
    "value5_2= int(2)\n",
    "value6= value4_1+value5_2\n",
    "print (value6)\n",
    "print(value6)\n",
    "print (value1)\n",
    "print (value2)\n",
    "print(value3)"
   ]
  },
  {
   "cell_type": "code",
   "execution_count": 11,
   "id": "3b33fe9d",
   "metadata": {},
   "outputs": [
    {
     "name": "stdout",
     "output_type": "stream",
     "text": [
      "False\n",
      "False\n",
      "False\n",
      "True\n",
      "True\n"
     ]
    }
   ],
   "source": [
    "print(10==20)\n",
    "print(\"a\"==\"b\")\n",
    "print(10!=10)\n",
    "print(10<20)\n",
    "print(20<=30)"
   ]
  },
  {
   "cell_type": "code",
   "execution_count": 15,
   "id": "e2f76269",
   "metadata": {},
   "outputs": [
    {
     "name": "stdout",
     "output_type": "stream",
     "text": [
      "True\n"
     ]
    }
   ],
   "source": [
    "x=10\n",
    "if(x==10):\n",
    " print(\"True\")\n",
    "else:\n",
    "    print(\"false\")\n",
    "    "
   ]
  },
  {
   "cell_type": "code",
   "execution_count": 16,
   "id": "df530a73",
   "metadata": {},
   "outputs": [
    {
     "name": "stdout",
     "output_type": "stream",
     "text": [
      "False\n"
     ]
    }
   ],
   "source": [
    "print(bool(15==10))"
   ]
  },
  {
   "cell_type": "code",
   "execution_count": 17,
   "id": "c43aa332",
   "metadata": {},
   "outputs": [
    {
     "name": "stdout",
     "output_type": "stream",
     "text": [
      "False\n"
     ]
    }
   ],
   "source": [
    "name1=\"Hammed\"\n",
    "name2=\"Gbenga\"\n",
    "print(bool(name1==name2))"
   ]
  },
  {
   "cell_type": "code",
   "execution_count": 19,
   "id": "aefb3643",
   "metadata": {},
   "outputs": [
    {
     "name": "stdout",
     "output_type": "stream",
     "text": [
      "2\n"
     ]
    }
   ],
   "source": [
    "y=2\n",
    "def display():\n",
    "    print(y)\n",
    "display()\n",
    "    "
   ]
  },
  {
   "cell_type": "code",
   "execution_count": 25,
   "id": "6e1abb76",
   "metadata": {},
   "outputs": [
    {
     "name": "stdout",
     "output_type": "stream",
     "text": [
      "1000\n",
      "1000\n"
     ]
    }
   ],
   "source": [
    "def local():\n",
    "    global z\n",
    "    z=1000\n",
    "    print (z)\n",
    "local()\n",
    "print(z)"
   ]
  },
  {
   "cell_type": "code",
   "execution_count": 10,
   "id": "c8f356ff",
   "metadata": {},
   "outputs": [
    {
     "name": "stdout",
     "output_type": "stream",
     "text": [
      "['osun', 'oyo', 'ogun']\n",
      "3\n"
     ]
    }
   ],
   "source": [
    "states=[\"osun\",\"oyo\",\"ogun\"]\n",
    "print (states)\n",
    "print(len(states))"
   ]
  },
  {
   "cell_type": "code",
   "execution_count": 9,
   "id": "a06fb870",
   "metadata": {},
   "outputs": [
    {
     "name": "stdout",
     "output_type": "stream",
     "text": [
      "['bag', 40, 50, 'shoe']\n",
      "<class 'list'>\n"
     ]
    }
   ],
   "source": [
    "items=[\"bag\",40,50,\"shoe\"]\n",
    "print(items)\n",
    "print(type(items))"
   ]
  },
  {
   "cell_type": "code",
   "execution_count": 8,
   "id": "66f46781",
   "metadata": {},
   "outputs": [
    {
     "name": "stdout",
     "output_type": "stream",
     "text": [
      "<class 'list'>\n"
     ]
    }
   ],
   "source": [
    "courses=[\"python\",\"web design\",\"graphix\"]\n",
    "print(type(courses))"
   ]
  },
  {
   "cell_type": "code",
   "execution_count": 11,
   "id": "007cef30",
   "metadata": {},
   "outputs": [
    {
     "name": "stdout",
     "output_type": "stream",
     "text": [
      "['monday', 'tuesday', 'wednesday']\n"
     ]
    }
   ],
   "source": [
    "days=list((\"monday\",\"tuesday\",\"wednesday\"))\n",
    "print(days)"
   ]
  },
  {
   "cell_type": "code",
   "execution_count": 17,
   "id": "37b14577",
   "metadata": {},
   "outputs": [
    {
     "name": "stdout",
     "output_type": "stream",
     "text": [
      "kunle\n",
      "kunle\n",
      "hammed\n"
     ]
    }
   ],
   "source": [
    "dataset=[\"joy\",\"wale\",\"hammed\",\"kunle\"]\n",
    "print(dataset[3])\n",
    "print(dataset[-1])\n",
    "print(dataset[-2])"
   ]
  },
  {
   "cell_type": "code",
   "execution_count": 29,
   "id": "b414d9b4",
   "metadata": {},
   "outputs": [
    {
     "name": "stdout",
     "output_type": "stream",
     "text": [
      "['pcm', 'amp']\n",
      "['amp', 'flagyl', 'bloodcap']\n",
      "['pcm', 'amp']\n",
      "['amp', 'flagyl']\n",
      "data is available\n"
     ]
    }
   ],
   "source": [
    "pills=[\"pcm\",\"amp\",\"flagyl\",\"bloodcap\"]\n",
    "print(pills[0:2])\n",
    "print(pills[1:])\n",
    "print(pills[:2])\n",
    "print(pills[-3:-1])\n",
    "if \"pcm\" in pills:\n",
    "    print(\"data is available\")\n",
    "else:\n",
    "    print(\"data not available\")"
   ]
  },
  {
   "cell_type": "code",
   "execution_count": 31,
   "id": "724cef51",
   "metadata": {},
   "outputs": [
    {
     "name": "stdout",
     "output_type": "stream",
     "text": [
      "[1, 10, 3, 4, 5, 6, 7, 8]\n",
      "[1, 10, 3, 4, 5, 9, 11, 12]\n"
     ]
    }
   ],
   "source": [
    "fig1=[1,2,3,4,5,6,7,8]\n",
    "fig1[1]=10\n",
    "print(fig1)\n",
    "fig1[5:]=[9,11,12]\n",
    "print(fig1)"
   ]
  },
  {
   "cell_type": "code",
   "execution_count": 39,
   "id": "00b66e08",
   "metadata": {},
   "outputs": [
    {
     "name": "stdout",
     "output_type": "stream",
     "text": [
      "['mango', 'cashew', 'orange', 'apple', 'banana']\n"
     ]
    }
   ],
   "source": [
    "fruits=[\"mango\",\"orange\",\"apple\",\"banana\"]\n",
    "fruits.insert(1,\"cashew\")\n",
    "print(fruits)"
   ]
  },
  {
   "cell_type": "code",
   "execution_count": 82,
   "id": "cb0cffb8",
   "metadata": {},
   "outputs": [
    {
     "name": "stdout",
     "output_type": "stream",
     "text": [
      "['house', 'school', 'supermarket', 'company', 'market', 'pharmacy', 'fashion store', 'mechanical workshop']\n"
     ]
    }
   ],
   "source": [
    "dataset=[\"house\",\"school\",\"hospital\",\"company\"]\n",
    "dataset.insert(3,\"police station\")\n",
    "dataset.insert(4,\"supermarket\")\n",
    "dataset.append(\"market\")\n",
    "dataset2=[\"pharmacy\",\"fashion store\",\"mechanical workshop\",\"furniture\"]\n",
    "dataset.extend(dataset2)\n",
    "dataset.remove(\"furniture\")\n",
    "dataset.pop(3)\n",
    "del dataset[2]\n",
    "print(dataset)"
   ]
  },
  {
   "cell_type": "code",
   "execution_count": 34,
   "id": "d560f2fd",
   "metadata": {},
   "outputs": [
    {
     "name": "stdout",
     "output_type": "stream",
     "text": [
      "(1, 2, 3, 4, 5)\n",
      "('book', 'bag', 'pen')\n",
      "2\n",
      "pen\n",
      "('book', 'bag')\n",
      "('book', 'bag', 'pen')\n",
      "('book', 'bag')\n"
     ]
    }
   ],
   "source": [
    "#tupple usage(h0w to upate tuple)\n",
    "dataset1=(1,2,3,4,5)\n",
    "print (dataset1)\n",
    "dataset2=(\"book\",\"bag\",\"pen\")\n",
    "print (dataset2)\n",
    "print(dataset1[1])\n",
    "print (dataset2[2])\n",
    "print (dataset2[:2])\n",
    "print (dataset2[0:])\n",
    "print (dataset2[-3:-1])\n",
    "\n"
   ]
  },
  {
   "cell_type": "code",
   "execution_count": 46,
   "id": "997ce8bc",
   "metadata": {},
   "outputs": [
    {
     "name": "stdout",
     "output_type": "stream",
     "text": [
      "('osogbo', 'ibadan', 'lagos')\n",
      "('osogbo', 'ibadan', 'lagos')\n"
     ]
    }
   ],
   "source": [
    "tuple2=(\"osogbo\",\"ibadan\",\"lagos\")\n",
    "x=list(tuple2)\n",
    "x[1]=\"ekiti\"\n",
    "tuple1= tuple(x)\n",
    "print (tuple2)\n",
    "x=list(tuple2)\n",
    "x[2]=\"Ibadan\"\n",
    "tuple1=tuple(x)\n",
    "print (tuple2)"
   ]
  },
  {
   "cell_type": "code",
   "execution_count": 32,
   "id": "e0db9048",
   "metadata": {},
   "outputs": [
    {
     "name": "stdout",
     "output_type": "stream",
     "text": [
      "('osogbo', 'ibadan', 'lagos', 'abeokuta')\n",
      "('osogbo', 'ibadan', 'abeokuta')\n",
      "(1, 2, 3, 4, 5, 6)\n",
      "osun\n",
      "kaduna\n",
      "delta\n",
      "enugu\n",
      "hammed\n",
      "tuface\n",
      "['ronaldo', 'messi', 'mikel', 'lebrojames']\n",
      "ronaldo\n",
      "messi\n",
      "mikel\n",
      "lebrojames\n",
      "1\n",
      "2\n",
      "3\n",
      "4\n",
      "5\n",
      "6\n",
      "7\n",
      "8\n",
      "2\n",
      "4\n",
      "6\n",
      "8\n",
      "10\n",
      "12\n",
      "14\n",
      "16\n",
      "3\n"
     ]
    }
   ],
   "source": [
    "#adding items into the list\n",
    "tuple3=(\"osogbo\",\"ibadan\",\"lagos\")\n",
    "i=list(tuple3)\n",
    "i.append(\"abeokuta\")\n",
    "tuple3=tuple(i)\n",
    "print (tuple3)\n",
    "#remove from tuple\n",
    "i=list(tuple3)\n",
    "i.remove(\"lagos\")\n",
    "tuple3=tuple(i)\n",
    "print(tuple3)\n",
    "#add two items\n",
    "item1=(1,2,3,4)\n",
    "item2=(5,6)\n",
    "item1 += item2\n",
    "print(item1)\n",
    "#unpack\n",
    "states=(\"osun\",\"kaduna\",\"delta\",\"enugu\")\n",
    "(west,north,southsouth,east)=states\n",
    "print(west)\n",
    "print(north)\n",
    "print(southsouth)\n",
    "print(east)\n",
    "#unpack\n",
    "names=(\"hammed\",\"tuface\",\"ronaldo\",\"messi\",\"mikel\",\"lebrojames\")\n",
    "(tech,music,*sport)=names\n",
    "print(tech)\n",
    "print(music)\n",
    "#looping a tuple\n",
    "print(sport)\n",
    "for i in sport:\n",
    "    print(i)\n",
    "#joining tuple\n",
    "num1=(1,2,3,4)\n",
    "num2=(5,6,7,8)\n",
    "num3=num1+num2\n",
    "for a in num3:\n",
    "    print(a)\n",
    "for c in num3:\n",
    "    print(c*2)\n",
    "#countmethod\n",
    "fruits=(\"oranges\",\"banana\",\"apple\",\"pineapple\",\"orange\",\"apple\",\"apple\")\n",
    "print(fruits.count(\"apple\"))\n",
    "\n"
   ]
  },
  {
   "cell_type": "code",
   "execution_count": 22,
   "id": "b25a5761",
   "metadata": {},
   "outputs": [
    {
     "name": "stdout",
     "output_type": "stream",
     "text": [
      "{1, 2, 3, 4, 5} \n",
      " {'A', 'B', 'D', 'E', 'C'}\n",
      "1\n",
      "2\n",
      "3\n",
      "4\n",
      "5\n",
      "A\n",
      "B\n",
      "D\n",
      "E\n",
      "C\n",
      "True\n",
      "check if agebracket is true \n",
      " This Age brcket is False\n"
     ]
    }
   ],
   "source": [
    "#set\n",
    "set1={1,2,3,4,5}\n",
    "set2={\"A\",\"B\",\"C\",\"D\",\"E\"}\n",
    "print (set1,\"\\n\",set2)\n",
    "set1={1,2,3,4,5}\n",
    "set2={\"A\",\"B\",\"C\",\"D\",\"E\"}\n",
    "for x in set1:\n",
    "    print(x)\n",
    "for i in set2:\n",
    "    print(i)\n",
    "food_items={\"Beans\",\"Rice\",\"Yam\",\"Semo\"}\n",
    "print(\"Rice\" in food_items)\n",
    "Agebracket={\"10-15\",\"16-21\",\"22-28\"}\n",
    "print(\"check if agebracket is true\",\"\\n\", \"This Age brcket is\",\"29-34\" in Agebracket)"
   ]
  },
  {
   "cell_type": "code",
   "execution_count": 21,
   "id": "e52de8df",
   "metadata": {},
   "outputs": [
    {
     "name": "stdout",
     "output_type": "stream",
     "text": [
      "{'Oyo', 'Ogbomosho', 'Osogbo', 'Ibadan'}\n"
     ]
    }
   ],
   "source": [
    "#adding using set\n",
    "places={\"Osogbo\",\"Oyo\",\"Ogbomosho\"}\n",
    "places.add(\"Ibadan\")\n",
    "print(places)"
   ]
  },
  {
   "cell_type": "code",
   "execution_count": 27,
   "id": "a0687fb8",
   "metadata": {},
   "outputs": [
    {
     "name": "stdout",
     "output_type": "stream",
     "text": [
      "{'biro', 'pencil', 'sharpner', 'crayon', 'ruler'}\n"
     ]
    }
   ],
   "source": [
    "items={\"biro\",\"pencil\",\"crayon\",\"ruler\"}\n",
    "items.add(\"sharpner\",)\n",
    "print(items)"
   ]
  },
  {
   "cell_type": "code",
   "execution_count": 34,
   "id": "3418a171",
   "metadata": {},
   "outputs": [
    {
     "name": "stdout",
     "output_type": "stream",
     "text": [
      "{'volvo', 'rovers', 'volks', 'camry', 'mazda', 'range'}\n"
     ]
    }
   ],
   "source": [
    "#adding more than one set\n",
    "cars={\"volvo\",\"camry\",\"mazda\"}\n",
    "cars2={\"benz\",\"ford\",\"bmw\"}\n",
    "cars3=[\"rovers\",\"range\",\"volks\"]\n",
    "cars.update(cars3)\n",
    "print(cars)"
   ]
  },
  {
   "cell_type": "code",
   "execution_count": 32,
   "id": "b653dc44",
   "metadata": {},
   "outputs": [
    {
     "name": "stdout",
     "output_type": "stream",
     "text": [
      "{1, 2, 4, 5}\n"
     ]
    }
   ],
   "source": [
    "#removing set(remove)\n",
    "dataset1={1,2,3,4,5}\n",
    "dataset1.remove(3)\n",
    "print(dataset1)"
   ]
  },
  {
   "cell_type": "code",
   "execution_count": 35,
   "id": "163f198b",
   "metadata": {},
   "outputs": [
    {
     "name": "stdout",
     "output_type": "stream",
     "text": [
      "{1, 2, 3, 5}\n"
     ]
    }
   ],
   "source": [
    "#removing set(discard)\n",
    "dataset1={1,2,3,4,5}\n",
    "dataset1.discard(4)\n",
    "print(dataset1)"
   ]
  },
  {
   "cell_type": "code",
   "execution_count": 37,
   "id": "b8156cf2",
   "metadata": {},
   "outputs": [
    {
     "name": "stdout",
     "output_type": "stream",
     "text": [
      "{'Grapes', 'Apple', 'Orange', 'Beans'}\n"
     ]
    }
   ],
   "source": [
    "dataset2={\"Orange\",\"Beans\",\"Apple\",\"Grapes\"}\n",
    "dataset2.discard(\"Beansss\")\n",
    "print(dataset2)"
   ]
  },
  {
   "cell_type": "code",
   "execution_count": 38,
   "id": "547b2df5",
   "metadata": {},
   "outputs": [
    {
     "name": "stdout",
     "output_type": "stream",
     "text": [
      "1\n"
     ]
    }
   ],
   "source": [
    "#removing set using pop\n",
    "dataset1={1,2,3,4,5}\n",
    "dataset1.discard(4)\n",
    "y=dataset1.pop()\n",
    "print(y)"
   ]
  },
  {
   "cell_type": "code",
   "execution_count": 39,
   "id": "277d8984",
   "metadata": {},
   "outputs": [
    {
     "name": "stdout",
     "output_type": "stream",
     "text": [
      "set()\n"
     ]
    }
   ],
   "source": [
    "#using clear\n",
    "dataset1={1,2,3,4,5}\n",
    "dataset1.clear()\n",
    "print(dataset1)"
   ]
  },
  {
   "cell_type": "code",
   "execution_count": 40,
   "id": "ec678f78",
   "metadata": {},
   "outputs": [
    {
     "name": "stdout",
     "output_type": "stream",
     "text": [
      "1\n",
      "2\n",
      "3\n",
      "4\n",
      "5\n"
     ]
    }
   ],
   "source": [
    "#using loop\n",
    "dataset1={1,2,3,4,5}\n",
    "for i in dataset1:\n",
    "    print(i)"
   ]
  },
  {
   "cell_type": "code",
   "execution_count": 43,
   "id": "232b69c4",
   "metadata": {},
   "outputs": [
    {
     "name": "stdout",
     "output_type": "stream",
     "text": [
      "{'A', 1, 2, 3, 4, 'D', 'C', 'B'}\n"
     ]
    }
   ],
   "source": [
    "#union-joining set\n",
    "char1={\"A\",\"B\",\"C\",\"D\"}\n",
    "char2={1,2,3,4}\n",
    "y=char1.union(char2)\n",
    "print(y)"
   ]
  },
  {
   "cell_type": "code",
   "execution_count": 3,
   "id": "9a48d910",
   "metadata": {},
   "outputs": [
    {
     "name": "stdout",
     "output_type": "stream",
     "text": [
      "python is awesome\n"
     ]
    }
   ],
   "source": [
    "x=\"python is\"\n",
    "y=\" awesome\"\n",
    "z=x+y\n",
    "print(z)"
   ]
  },
  {
   "cell_type": "code",
   "execution_count": 6,
   "id": "b21512a9",
   "metadata": {},
   "outputs": [
    {
     "name": "stdout",
     "output_type": "stream",
     "text": [
      "python is awesome\n"
     ]
    }
   ],
   "source": [
    "x=\" awesome\"\n",
    "print (\"python is\"+ x)"
   ]
  },
  {
   "cell_type": "code",
   "execution_count": 2,
   "id": "558198e6",
   "metadata": {},
   "outputs": [
    {
     "name": "stdout",
     "output_type": "stream",
     "text": [
      "{1, 2, 3, 4, 5, 'a', 'b', 'c'}\n",
      "{1, 2, 3, 4, 5, 'a', 'b', 'c'}\n"
     ]
    }
   ],
   "source": [
    "#update and union in set\n",
    "set1={1,2,3,4,5}\n",
    "set2={\"a\",\"b\",\"c\"}\n",
    "set3=set1.union(set2)\n",
    "print(set3)\n",
    "set1.update(set2)\n",
    "print(set1)"
   ]
  },
  {
   "cell_type": "code",
   "execution_count": 4,
   "id": "eea1fab9",
   "metadata": {},
   "outputs": [
    {
     "name": "stdout",
     "output_type": "stream",
     "text": [
      "{'BENZ'}\n"
     ]
    },
    {
     "data": {
      "text/plain": [
       "{'BENZ'}"
      ]
     },
     "execution_count": 4,
     "metadata": {},
     "output_type": "execute_result"
    }
   ],
   "source": [
    "#intersection of set\n",
    "dataset1={\"BMW\",\"BENZ\",\"COROLLA\",}\n",
    "dataset2={\"AUDI\",\"BENZ\",\"NISSAN\"}\n",
    "dataset1.intersection_update(dataset2)\n",
    "print(dataset1)\n",
    "dataset1.intersection(dataset2)"
   ]
  },
  {
   "cell_type": "code",
   "execution_count": 9,
   "id": "e1a29b6d",
   "metadata": {},
   "outputs": [
    {
     "name": "stdout",
     "output_type": "stream",
     "text": [
      "{'Oyo', 'Ondo', 'Ogun', 'Ekiti'}\n",
      "{'Osun', 'Oyo', 'Lagos', 'Ogun'}\n"
     ]
    }
   ],
   "source": [
    "#symetric_difference_update\n",
    "state1={\"Osun\",\"Ogun\",\"Oyo\",\"Lagos\"}\n",
    "state2={\"Ondo\",\"Ekiti\",\"Osun\",\"Lagos\"}\n",
    "state1.symmetric_difference_update(state2)\n",
    "print(state1)\n",
    "x=state1.symmetric_difference(state2)\n",
    "print(x)"
   ]
  },
  {
   "cell_type": "code",
   "execution_count": 13,
   "id": "668f345a",
   "metadata": {},
   "outputs": [
    {
     "name": "stdout",
     "output_type": "stream",
     "text": [
      "{'Raph', 'Tunji', 'Isaac', 'Tunde'}\n"
     ]
    }
   ],
   "source": [
    "student1={\"Ayo\",\"Bola\",\"Tunde\",\"Tunji\"}\n",
    "student2={\"Isaac\",\"Raph\",\"Ayo\",\"Bola\"}\n",
    "y=student1.symmetric_difference(student2)\n",
    "print(y)"
   ]
  },
  {
   "cell_type": "code",
   "execution_count": 38,
   "id": "85ff547d",
   "metadata": {},
   "outputs": [
    {
     "name": "stdout",
     "output_type": "stream",
     "text": [
      "{'Name': 'Hammed', 'Gender': 'Male', 'Age': '20years', 'Hobby': 'Soccer', 'Subject': ['Maths', 'English', 'Physics']}\n",
      "Name Hammed\n",
      "Gender Male\n",
      "Age 20years\n",
      "Hobby Soccer\n",
      "Subject ['Maths', 'English', 'Physics']\n"
     ]
    }
   ],
   "source": [
    "#DICTIONARY\n",
    "students_info={\"Name\":\"Hammed\",\n",
    "               \"Gender\":\"Male\",\n",
    "               \"Age\":\"20years\",\n",
    "               \"Hobby\":\"Soccer\",\n",
    "               \"Subject\":[\"Maths\",\"English\",\"Physics\"],\n",
    "              }\n",
    "print(students_info)\n",
    "for i,y in students_info.items():\n",
    "    print(i,y)\n",
    "              "
   ]
  },
  {
   "cell_type": "code",
   "execution_count": 51,
   "id": "982c8700",
   "metadata": {},
   "outputs": [
    {
     "name": "stdout",
     "output_type": "stream",
     "text": [
      "name \t nigeria\n",
      "name nigeria\n",
      "states {1: 'Osun', 2: 'Ogun', 3: 'Oyo', 4: 'Lagos', 5: 'Ondo'}\n",
      "Language English\n",
      "states \t {1: 'Osun', 2: 'Ogun', 3: 'Oyo', 4: 'Lagos', 5: 'Ondo'}\n",
      "name nigeria\n",
      "states {1: 'Osun', 2: 'Ogun', 3: 'Oyo', 4: 'Lagos', 5: 'Ondo'}\n",
      "Language English\n",
      "Language \t English\n",
      "name nigeria\n",
      "states {1: 'Osun', 2: 'Ogun', 3: 'Oyo', 4: 'Lagos', 5: 'Ondo'}\n",
      "Language English\n"
     ]
    }
   ],
   "source": [
    "country={\"name\":\"nigeria\",\n",
    "         \"states\":{1:\"Osun\",\n",
    "                   2:\"Ogun\",\n",
    "                   3:\"Oyo\",\n",
    "                   4:\"Lagos\",\n",
    "                   5:\"Ondo\"},\n",
    "         \"Language\":\"English\"}\n",
    "for key,value in country.items():\n",
    "      print(key,\"\\t\",value)\n",
    "      for i,j in country.items():\n",
    "        print(i,j)"
   ]
  },
  {
   "cell_type": "code",
   "execution_count": 12,
   "id": "0ae6866c",
   "metadata": {},
   "outputs": [
    {
     "name": "stdout",
     "output_type": "stream",
     "text": [
      "{'students_id': 'AL1', 'students_name': 'Tunde', 'students_gender': 'male', 'students_dept': 'Business admin', 'students_course': ['economics', 'business'], 'students_level': '100l'}\n"
     ]
    }
   ],
   "source": [
    "#database for 10 students\n",
    "students_info={\"students_id\":\"AL1\",\n",
    "               \"students_name\":\"Tunde\",\n",
    "               \"students_gender\":\"male\",\n",
    "               \"students_dept\":\"Business admin\",\n",
    "               \"students_course\":[\"economics\",\"business\"],\n",
    "               \"students_level\":\"100l\"\n",
    "              }\n",
    "print(students_info)\n"
   ]
  },
  {
   "cell_type": "code",
   "execution_count": 136,
   "id": "6b2ff471",
   "metadata": {},
   "outputs": [
    {
     "name": "stdout",
     "output_type": "stream",
     "text": [
      "{'First Sem': 2.89, 'Second Sem': 3.12} {'First Sem': 3.0, 'Second Sem': 3.15} {'first Sem': 3.13, 'Second Sem': 3.0}\n"
     ]
    }
   ],
   "source": [
    "students_var={\"001\":{\"Name\":\"Tunde\",\n",
    "                \"Gender\":\"Male\",\n",
    "                \"Dept\":\"Mass Com\",\n",
    "                \"Courses\":[\"Lan101\",\"Mass101\",\"Lan102\"],\n",
    "                \"Level\":\"100l\",\n",
    "                \"CGPA\":{\"First Sem\":2.89,\"Second Sem\":3.12},\n",
    "                    },\n",
    "              \"002\":{\n",
    "                  \"Name\":\"Akin\",\n",
    "                  \"Gender\":\"Male\",\n",
    "                  \"Dept\":\"Computer Science\",\n",
    "                  \"Courses\":[\"csc101\",\"csc102\",\"csc103\"],\n",
    "                  \"Level\":\"100l\",\n",
    "                  \"CGPA\":{\"First Sem\":3.00,\"Second Sem\":3.15},\n",
    "                    },\n",
    "              \"003\":{\n",
    "                  \"Name\":\"Funmi\",\n",
    "                  \"Gender\":\"Female\",\n",
    "                  \"Dept\":\"Sociology\",\n",
    "                  \"Courses\":[\"soc101\",\"soc102\",\"soc102\"],\n",
    "                  \"Level\":\"100l\",\n",
    "                  \"CGPA\":{\"first Sem\":3.13,\"Second Sem\":3.00},\n",
    "                    },\n",
    "              \"004\":{\n",
    "                  \"Name\":\"Titi\",\n",
    "                  \"Gender\":\"Female\",\n",
    "                  \"Dept\":\"Microbiology\",\n",
    "                  \"Courses\":[\"mcb101\",\"mcb102\",\"mcb103\"],\n",
    "                  \"Level\":\"100l\",\n",
    "                  \"CGPA\":{\"First Sem\":2.98,\"First Sem\":2.10},\n",
    "                    },\n",
    "              \"005\":{\n",
    "                  \"Name\":\"Damola\",\n",
    "                  \"Gender\":\"Female\",\n",
    "                  \"Dept\":\"Economics\",\n",
    "                  \"Courses\":[\"eco101\",\"eco102\",\"eco103\"],\n",
    "                  \"Level\":\"100l\",\n",
    "                  \"CGPA\":{\"First Sem\":2.15,\"Second Sem\":3.25},\n",
    "                    },\n",
    "              \n",
    "                    }\n",
    "#print(students_var)\n",
    "# y=5\n",
    "# resu=[]\n",
    "\n",
    "# for i in students_var.values():\n",
    "#     print(i)\n",
    "#     list(i)\n",
    "#     resu.append(i[y])\n",
    "#     print(resu)\n",
    "# dictValues= str(students_var.keys())\n",
    "       \n",
    "outp1,outp2,outp3 = students_var[\"001\"]['CGPA'],students_var[\"002\"]['CGPA'], students_var[\"003\"]['CGPA']\n",
    "print(outp1,outp2,outp3)\n",
    "\n"
   ]
  },
  {
   "cell_type": "code",
   "execution_count": 153,
   "id": "85f5de54",
   "metadata": {},
   "outputs": [
    {
     "name": "stdout",
     "output_type": "stream",
     "text": [
      "10 is less than 20\n"
     ]
    }
   ],
   "source": [
    "#control flow chart\n",
    "#IF statement\n",
    "x=10\n",
    "if x < 20:\n",
    "    print(\"10 is less than 20\")"
   ]
  },
  {
   "cell_type": "code",
   "execution_count": 159,
   "id": "91962cd3",
   "metadata": {},
   "outputs": [
    {
     "name": "stdout",
     "output_type": "stream",
     "text": [
      "Invalid Statement\n"
     ]
    }
   ],
   "source": [
    "#for If else statement\n",
    "x=10\n",
    "if x > 20:\n",
    "    print(\"10 is less than 20\")\n",
    "else:\n",
    "    print(\"Invalid Statement\")"
   ]
  },
  {
   "cell_type": "code",
   "execution_count": 175,
   "id": "7cd88c73",
   "metadata": {},
   "outputs": [
    {
     "name": "stdout",
     "output_type": "stream",
     "text": [
      "'y' is greater than 'x'\n"
     ]
    }
   ],
   "source": [
    "#elif(else.....if..)\n",
    "x=5,\n",
    "y=15,\n",
    "z=26,\n",
    "if x==y:\n",
    "    print(x)\n",
    "elif y > x or x > y:\n",
    "    print (\"'y' is greater than 'x'\")\n",
    "else:\n",
    "    print(\"Above statements are not correct\")"
   ]
  },
  {
   "cell_type": "code",
   "execution_count": 178,
   "id": "76e701e8",
   "metadata": {},
   "outputs": [
    {
     "name": "stdout",
     "output_type": "stream",
     "text": [
      "'y' is not equal to 'j'\n"
     ]
    }
   ],
   "source": [
    "#Test Work\n",
    "y=2,\n",
    "j=10\n",
    "if y==j:\n",
    "    print(\"True\")\n",
    "else:\n",
    "    print(\"'y' is not equal to 'j'\")"
   ]
  },
  {
   "cell_type": "code",
   "execution_count": 183,
   "id": "c8325855",
   "metadata": {},
   "outputs": [
    {
     "name": "stdout",
     "output_type": "stream",
     "text": [
      "5 is greater than 4\n"
     ]
    }
   ],
   "source": [
    "i=5,\n",
    "k=4,\n",
    "if i > k:\n",
    "    print (\"5 is greater than 4\")"
   ]
  },
  {
   "cell_type": "code",
   "execution_count": 184,
   "id": "53f85205",
   "metadata": {},
   "outputs": [
    {
     "name": "stdout",
     "output_type": "stream",
     "text": [
      "the above statement is FALSE\n"
     ]
    }
   ],
   "source": [
    "u=3\n",
    "z=2\n",
    "if u < z:\n",
    "    print (\"U is less than Z\")\n",
    "else:\n",
    "    print (\"the above statement is FALSE\")"
   ]
  },
  {
   "cell_type": "code",
   "execution_count": 192,
   "id": "ebb9666f",
   "metadata": {},
   "outputs": [
    {
     "name": "stdout",
     "output_type": "stream",
     "text": [
      "True\n"
     ]
    }
   ],
   "source": [
    "#elif\n",
    "u=2\n",
    "y=10\n",
    "z=5\n",
    "j=4\n",
    "n=3\n",
    "if u==y:\n",
    "    print (\"'y' is greater than 'u'\")\n",
    "elif y > u and z > j:\n",
    "    print (True)\n",
    "elif n < u  :\n",
    "    print (\"above statements are True\")"
   ]
  },
  {
   "cell_type": "code",
   "execution_count": 7,
   "id": "55f5bb5f",
   "metadata": {},
   "outputs": [
    {
     "name": "stdout",
     "output_type": "stream",
     "text": [
      "welcome\n"
     ]
    }
   ],
   "source": [
    "#tenary operator\n",
    "print(\"welcome\") if 10<20 else print(\"invalid\")"
   ]
  },
  {
   "cell_type": "code",
   "execution_count": 10,
   "id": "81c0161d",
   "metadata": {},
   "outputs": [
    {
     "name": "stdout",
     "output_type": "stream",
     "text": [
      "Good Afternoon\n"
     ]
    }
   ],
   "source": [
    "print(\"Good Afternoon\") if 1<2 else print (\"Helloo\") if 2>1 else print(\"The message is void\")"
   ]
  },
  {
   "cell_type": "code",
   "execution_count": 11,
   "id": "672beb6e",
   "metadata": {},
   "outputs": [
    {
     "name": "stdout",
     "output_type": "stream",
     "text": [
      "Heloo\n"
     ]
    }
   ],
   "source": [
    "print(\"Good Afternoon\") if 1>2 else print(\"Heloo\") if 2>1 else print(\"The message is void\")"
   ]
  },
  {
   "cell_type": "code",
   "execution_count": 12,
   "id": "c462171e",
   "metadata": {},
   "outputs": [
    {
     "name": "stdout",
     "output_type": "stream",
     "text": [
      "Invalid\n"
     ]
    }
   ],
   "source": [
    "print(\"welcome\") if 10>20 else print(\"Invalid\")"
   ]
  },
  {
   "cell_type": "code",
   "execution_count": 14,
   "id": "5d077eff",
   "metadata": {},
   "outputs": [
    {
     "name": "stdout",
     "output_type": "stream",
     "text": [
      "i is greater than x\n"
     ]
    }
   ],
   "source": [
    "x=10\n",
    "i=25\n",
    "print(\"x is greater than i\") if x>i else print(\"i is equal to x\") if i==x else print(\"i is greater than x\")if i>x else print(\"all the above statements are wrong\") "
   ]
  },
  {
   "cell_type": "code",
   "execution_count": 16,
   "id": "8b7f95f2",
   "metadata": {},
   "outputs": [
    {
     "name": "stdout",
     "output_type": "stream",
     "text": [
      "Good Afternoon\n"
     ]
    }
   ],
   "source": [
    "#\"AND\"........\"OR\"\n",
    "time_noon=12\n",
    "if time_noon==12 or time_noon>11:\n",
    "     print (\"Good Afternoon\")\n",
    "else:\n",
    "    print(\"Good day\")"
   ]
  },
  {
   "cell_type": "code",
   "execution_count": 20,
   "id": "1f7b9af2",
   "metadata": {},
   "outputs": [
    {
     "name": "stdout",
     "output_type": "stream",
     "text": [
      "morning,sunrise\n"
     ]
    }
   ],
   "source": [
    "time_morning=7\n",
    "time_sunrise=6\n",
    "if time_morning==7 and time_sunrise==6:\n",
    "    print(\"morning,sunrise\")\n",
    "else:\n",
    "    print(\"good day\")"
   ]
  },
  {
   "cell_type": "code",
   "execution_count": 5,
   "id": "c7f829f4",
   "metadata": {},
   "outputs": [
    {
     "name": "stdout",
     "output_type": "stream",
     "text": [
      "a is greater\n"
     ]
    }
   ],
   "source": [
    "a=10\n",
    "b=\"a is greater\" if a>5 else \"a is lower\" \n",
    "print (b)"
   ]
  },
  {
   "cell_type": "code",
   "execution_count": 11,
   "id": "bf8bfe2b",
   "metadata": {},
   "outputs": [
    {
     "name": "stdout",
     "output_type": "stream",
     "text": [
      "a is greater than 10\n",
      "and also it is less than 20\n"
     ]
    }
   ],
   "source": [
    "a=15\n",
    "if a>10:\n",
    "   print(\"a is greater than 10\")\n",
    "if a<20:\n",
    "       print(\"and also it is less than 20\")\n",
    "else:\n",
    "    print(\"The above statements are not correct\")"
   ]
  },
  {
   "cell_type": "code",
   "execution_count": 12,
   "id": "defc64c1",
   "metadata": {},
   "outputs": [
    {
     "name": "stdout",
     "output_type": "stream",
     "text": [
      "d is not the same with 'E'\n"
     ]
    }
   ],
   "source": [
    "#NOTAND...............\n",
    "d=\"Tunde\"\n",
    "e=\"Wasiu\"\n",
    "if not d==e:\n",
    "    print(\"d is not the same with 'E'\")\n",
    "else:\n",
    "    print(\"They are just the samething\")"
   ]
  },
  {
   "cell_type": "code",
   "execution_count": 13,
   "id": "0421e6ab",
   "metadata": {},
   "outputs": [
    {
     "ename": "SyntaxError",
     "evalue": "invalid syntax (881208262.py, line 2)",
     "output_type": "error",
     "traceback": [
      "\u001b[1;36m  Cell \u001b[1;32mIn[13], line 2\u001b[1;36m\u001b[0m\n\u001b[1;33m    not ruuning a function just keeping it as a template,in order not to fly flag of errors just put pass keywor\u001b[0m\n\u001b[1;37m                ^\u001b[0m\n\u001b[1;31mSyntaxError\u001b[0m\u001b[1;31m:\u001b[0m invalid syntax\n"
     ]
    }
   ],
   "source": [
    "#pass keyword\n",
    "not ruuning a function just keeping it as a template,in order not to fly flag of errors just put pass keywor\n"
   ]
  },
  {
   "cell_type": "code",
   "execution_count": 15,
   "id": "31b3053c",
   "metadata": {},
   "outputs": [
    {
     "name": "stdout",
     "output_type": "stream",
     "text": [
      "Soccer\n",
      "Rugby\n",
      "Basketball\n",
      "Lawn Tennis\n"
     ]
    }
   ],
   "source": [
    "#loop.............#for..loop...\n",
    "sports=[\"Soccer\",\"Rugby\",\"Basketball\",\"Lawn Tennis\"]\n",
    "for j in sports:\n",
    "    print(j)"
   ]
  },
  {
   "cell_type": "code",
   "execution_count": 17,
   "id": "83977860",
   "metadata": {},
   "outputs": [
    {
     "name": "stdout",
     "output_type": "stream",
     "text": [
      "1\n",
      "2\n",
      "3\n",
      "4\n",
      "5\n",
      "6\n",
      "7\n",
      "8\n",
      "9\n",
      "10\n",
      "11\n",
      "12\n",
      "13\n",
      "14\n",
      "15\n",
      "16\n",
      "17\n",
      "18\n",
      "19\n",
      "20\n",
      "21\n",
      "22\n",
      "23\n",
      "24\n",
      "25\n",
      "26\n",
      "27\n",
      "28\n",
      "29\n",
      "30\n",
      "31\n",
      "32\n",
      "33\n",
      "34\n",
      "35\n",
      "36\n",
      "37\n",
      "38\n",
      "39\n",
      "40\n",
      "41\n",
      "42\n",
      "43\n",
      "44\n",
      "45\n",
      "46\n",
      "47\n",
      "48\n",
      "49\n",
      "50\n",
      "51\n",
      "52\n",
      "53\n",
      "54\n",
      "55\n",
      "56\n",
      "57\n",
      "58\n",
      "59\n",
      "60\n",
      "61\n",
      "62\n",
      "63\n",
      "64\n",
      "65\n",
      "66\n",
      "67\n",
      "68\n",
      "69\n",
      "70\n",
      "71\n",
      "72\n",
      "73\n",
      "74\n",
      "75\n",
      "76\n",
      "77\n",
      "78\n",
      "79\n",
      "80\n",
      "81\n",
      "82\n",
      "83\n",
      "84\n",
      "85\n",
      "86\n",
      "87\n",
      "88\n",
      "89\n",
      "90\n",
      "91\n",
      "92\n",
      "93\n",
      "94\n",
      "95\n",
      "96\n",
      "97\n",
      "98\n",
      "99\n"
     ]
    }
   ],
   "source": [
    "for i in range (1,100):\n",
    "    print(i)"
   ]
  },
  {
   "cell_type": "code",
   "execution_count": 1,
   "id": "e91bf6a2",
   "metadata": {},
   "outputs": [
    {
     "name": "stdout",
     "output_type": "stream",
     "text": [
      "Multiplication Table of 2 \n",
      "\n",
      "2*1 = 2 \n",
      "\n",
      "2*2 = 4 \n",
      "\n",
      "2*3 = 6 \n",
      "\n",
      "2*4 = 8 \n",
      "\n",
      "2*5 = 10 \n",
      "\n",
      "2*6 = 12 \n",
      "\n",
      "2*7 = 14 \n",
      "\n",
      "2*8 = 16 \n",
      "\n",
      "2*9 = 18 \n",
      "\n",
      "2*10 = 20 \n",
      "\n",
      "2*11 = 22 \n",
      "\n",
      "2*12 = 24 \n",
      "\n",
      "Multiplication Table of 3 \n",
      "\n",
      "3*1 = 3 \n",
      "\n",
      "3*2 = 6 \n",
      "\n",
      "3*3 = 9 \n",
      "\n",
      "3*4 = 12 \n",
      "\n",
      "3*5 = 15 \n",
      "\n",
      "3*6 = 18 \n",
      "\n",
      "3*7 = 21 \n",
      "\n",
      "3*8 = 24 \n",
      "\n",
      "3*9 = 27 \n",
      "\n",
      "3*10 = 30 \n",
      "\n",
      "3*11 = 33 \n",
      "\n",
      "3*12 = 36 \n",
      "\n",
      "Multiplication Table of 4 \n",
      "\n",
      "4*1 = 4 \n",
      "\n",
      "4*2 = 8 \n",
      "\n",
      "4*3 = 12 \n",
      "\n",
      "4*4 = 16 \n",
      "\n",
      "4*5 = 20 \n",
      "\n",
      "4*6 = 24 \n",
      "\n",
      "4*7 = 28 \n",
      "\n",
      "4*8 = 32 \n",
      "\n",
      "4*9 = 36 \n",
      "\n",
      "4*10 = 40 \n",
      "\n",
      "4*11 = 44 \n",
      "\n",
      "4*12 = 48 \n",
      "\n",
      "Multiplication Table of 5 \n",
      "\n",
      "5*1 = 5 \n",
      "\n",
      "5*2 = 10 \n",
      "\n",
      "5*3 = 15 \n",
      "\n",
      "5*4 = 20 \n",
      "\n",
      "5*5 = 25 \n",
      "\n",
      "5*6 = 30 \n",
      "\n",
      "5*7 = 35 \n",
      "\n",
      "5*8 = 40 \n",
      "\n",
      "5*9 = 45 \n",
      "\n",
      "5*10 = 50 \n",
      "\n",
      "5*11 = 55 \n",
      "\n",
      "5*12 = 60 \n",
      "\n",
      "Multiplication Table of 6 \n",
      "\n",
      "6*1 = 6 \n",
      "\n",
      "6*2 = 12 \n",
      "\n",
      "6*3 = 18 \n",
      "\n",
      "6*4 = 24 \n",
      "\n",
      "6*5 = 30 \n",
      "\n",
      "6*6 = 36 \n",
      "\n",
      "6*7 = 42 \n",
      "\n",
      "6*8 = 48 \n",
      "\n",
      "6*9 = 54 \n",
      "\n",
      "6*10 = 60 \n",
      "\n",
      "6*11 = 66 \n",
      "\n",
      "6*12 = 72 \n",
      "\n",
      "Multiplication Table of 7 \n",
      "\n",
      "7*1 = 7 \n",
      "\n",
      "7*2 = 14 \n",
      "\n",
      "7*3 = 21 \n",
      "\n",
      "7*4 = 28 \n",
      "\n",
      "7*5 = 35 \n",
      "\n",
      "7*6 = 42 \n",
      "\n",
      "7*7 = 49 \n",
      "\n",
      "7*8 = 56 \n",
      "\n",
      "7*9 = 63 \n",
      "\n",
      "7*10 = 70 \n",
      "\n",
      "7*11 = 77 \n",
      "\n",
      "7*12 = 84 \n",
      "\n",
      "Multiplication Table of 8 \n",
      "\n",
      "8*1 = 8 \n",
      "\n",
      "8*2 = 16 \n",
      "\n",
      "8*3 = 24 \n",
      "\n",
      "8*4 = 32 \n",
      "\n",
      "8*5 = 40 \n",
      "\n",
      "8*6 = 48 \n",
      "\n",
      "8*7 = 56 \n",
      "\n",
      "8*8 = 64 \n",
      "\n",
      "8*9 = 72 \n",
      "\n",
      "8*10 = 80 \n",
      "\n",
      "8*11 = 88 \n",
      "\n",
      "8*12 = 96 \n",
      "\n",
      "Multiplication Table of 9 \n",
      "\n",
      "9*1 = 9 \n",
      "\n",
      "9*2 = 18 \n",
      "\n",
      "9*3 = 27 \n",
      "\n",
      "9*4 = 36 \n",
      "\n",
      "9*5 = 45 \n",
      "\n",
      "9*6 = 54 \n",
      "\n",
      "9*7 = 63 \n",
      "\n",
      "9*8 = 72 \n",
      "\n",
      "9*9 = 81 \n",
      "\n",
      "9*10 = 90 \n",
      "\n",
      "9*11 = 99 \n",
      "\n",
      "9*12 = 108 \n",
      "\n",
      "Multiplication Table of 10 \n",
      "\n",
      "10*1 = 10 \n",
      "\n",
      "10*2 = 20 \n",
      "\n",
      "10*3 = 30 \n",
      "\n",
      "10*4 = 40 \n",
      "\n",
      "10*5 = 50 \n",
      "\n",
      "10*6 = 60 \n",
      "\n",
      "10*7 = 70 \n",
      "\n",
      "10*8 = 80 \n",
      "\n",
      "10*9 = 90 \n",
      "\n",
      "10*10 = 100 \n",
      "\n",
      "10*11 = 110 \n",
      "\n",
      "10*12 = 120 \n",
      "\n"
     ]
    }
   ],
   "source": [
    "#multiplication table 2,3.......11\n",
    "for k in range(2,11):\n",
    "    print(f\"Multiplication Table of {k*1} \\n\")\n",
    "    for l in range(1,13):\n",
    "        print(f\"{k}*{l} =\", k*l, \"\\n\")\n",
    "        \n",
    "    "
   ]
  },
  {
   "cell_type": "code",
   "execution_count": 5,
   "id": "9e779c23",
   "metadata": {},
   "outputs": [
    {
     "name": "stdout",
     "output_type": "stream",
     "text": [
      "the principal rate 10\n",
      "the rate of interest 15\n",
      "the time period 20\n",
      "the simple interest is 30.0\n"
     ]
    }
   ],
   "source": [
    "#programe on simple interest\n",
    "def simple_interest(p,t,r):\n",
    "  print('the principal rate',p)\n",
    "  print('the rate of interest',r)\n",
    "  print('the time period',t)\n",
    "  si = (p * t * r)/100\n",
    "  print ('the simple interest is',si)\n",
    "simple_interest(10,20,15)"
   ]
  },
  {
   "cell_type": "code",
   "execution_count": 13,
   "id": "e5480047",
   "metadata": {},
   "outputs": [
    {
     "name": "stdout",
     "output_type": "stream",
     "text": [
      "1\n",
      "3\n",
      "5\n",
      "7\n",
      "9\n",
      "11\n",
      "13\n",
      "15\n",
      "17\n",
      "19\n"
     ]
    }
   ],
   "source": [
    "#while...loop...\n",
    "i=1\n",
    "while i < 20:\n",
    "    \n",
    "    print (i)\n",
    "    i+=2"
   ]
  },
  {
   "cell_type": "code",
   "execution_count": 49,
   "id": "91564217",
   "metadata": {},
   "outputs": [
    {
     "name": "stdout",
     "output_type": "stream",
     "text": [
      "0\n",
      "1\n",
      "2\n",
      "3\n",
      "4\n",
      "5\n",
      "6\n"
     ]
    }
   ],
   "source": [
    "#break statement\n",
    "i=0\n",
    "while i<30:\n",
    "    print(i)\n",
    "    if i==6:\n",
    "        break\n",
    "    i+=1"
   ]
  },
  {
   "cell_type": "code",
   "execution_count": 53,
   "id": "fa1cdf07",
   "metadata": {},
   "outputs": [
    {
     "name": "stdout",
     "output_type": "stream",
     "text": [
      "0\n",
      "1\n",
      "2\n",
      "3\n",
      "4\n",
      "5\n",
      "6\n",
      "7\n",
      "8\n",
      "9\n",
      "10\n",
      "11\n",
      "12\n",
      "13\n",
      "14\n",
      "15\n",
      "16\n",
      "17\n",
      "18\n",
      "19\n",
      "20\n",
      "21\n",
      "22\n",
      "23\n",
      "24\n",
      "25\n",
      "26\n",
      "27\n",
      "28\n",
      "29\n"
     ]
    }
   ],
   "source": [
    "i=0\n",
    "while i<30:\n",
    "    print(i)\n",
    "    i+=1\n",
    "    if i==10:\n",
    "        continue\n",
    "   "
   ]
  },
  {
   "cell_type": "code",
   "execution_count": 54,
   "id": "0645a43b",
   "metadata": {},
   "outputs": [
    {
     "name": "stdout",
     "output_type": "stream",
     "text": [
      "1\n",
      "2\n",
      "3\n",
      "4\n",
      "5\n",
      "6\n",
      "7\n",
      "8\n",
      "9\n",
      "10\n",
      "11\n",
      "12\n",
      "13\n",
      "14\n",
      "15\n",
      "16\n",
      "17\n",
      "18\n",
      "19\n",
      "20\n",
      "21\n",
      "22\n",
      "23\n",
      "24\n",
      "25\n",
      "26\n",
      "27\n",
      "28\n",
      "29\n",
      "30\n",
      "31\n",
      "32\n",
      "33\n",
      "34\n",
      "35\n",
      "36\n",
      "37\n",
      "38\n",
      "39\n",
      "40\n",
      "41\n",
      "42\n",
      "43\n",
      "44\n",
      "45\n",
      "46\n",
      "47\n",
      "48\n",
      "49\n",
      "50\n",
      "51\n",
      "52\n",
      "53\n",
      "54\n",
      "55\n",
      "56\n",
      "57\n",
      "58\n",
      "59\n",
      "60\n",
      "61\n",
      "62\n",
      "63\n",
      "64\n",
      "65\n",
      "66\n",
      "67\n",
      "68\n",
      "69\n",
      "70\n",
      "71\n",
      "72\n",
      "73\n",
      "74\n",
      "75\n",
      "76\n",
      "77\n",
      "78\n",
      "79\n",
      "80\n",
      "81\n",
      "82\n",
      "83\n",
      "84\n",
      "85\n",
      "86\n",
      "87\n",
      "88\n",
      "89\n",
      "90\n",
      "91\n",
      "92\n",
      "93\n",
      "94\n",
      "95\n",
      "96\n",
      "97\n",
      "98\n",
      "99\n"
     ]
    }
   ],
   "source": [
    "for j in range(1,100):\n",
    "    print(j)"
   ]
  },
  {
   "cell_type": "code",
   "execution_count": 55,
   "id": "2a4165ed",
   "metadata": {},
   "outputs": [
    {
     "name": "stdout",
     "output_type": "stream",
     "text": [
      "H\n",
      "a\n",
      "m\n",
      "m\n",
      "e\n",
      "d\n"
     ]
    }
   ],
   "source": [
    "for d in \"Hammed\":\n",
    "    print(d)"
   ]
  },
  {
   "cell_type": "code",
   "execution_count": 110,
   "id": "03bffc6e",
   "metadata": {},
   "outputs": [
    {
     "name": "stdout",
     "output_type": "stream",
     "text": [
      "A\n",
      "B\n"
     ]
    }
   ],
   "source": [
    "alphabets= [\"A\",\"B\",\"C\",\"D\"]\n",
    "for a in alphabets:\n",
    "    print(a)\n",
    "    if a == \"B\":\n",
    "        break\n",
    "    \n",
    "        \n",
    "\n",
    "    \n",
    "    \n",
    "    \n"
   ]
  },
  {
   "cell_type": "code",
   "execution_count": 147,
   "id": "2ae665f2",
   "metadata": {},
   "outputs": [
    {
     "name": "stdout",
     "output_type": "stream",
     "text": [
      "1\n",
      "2\n",
      "3\n",
      "4\n",
      "5\n",
      "6\n",
      "7\n",
      "8\n",
      "9\n",
      "10\n",
      "11\n",
      "12\n",
      "13\n",
      "14\n",
      "15\n",
      "16\n",
      "17\n",
      "18\n",
      "19\n",
      "20\n"
     ]
    }
   ],
   "source": [
    "#using loop print 1-30 then break when its 20\n",
    "for a in range(1,30):\n",
    "      print(a)\n",
    "      if a==20:\n",
    "        break\n",
    "      if a==20:\n",
    "        continue\n",
    "      "
   ]
  },
  {
   "cell_type": "code",
   "execution_count": 2,
   "id": "93bdc364",
   "metadata": {},
   "outputs": [
    {
     "name": "stdout",
     "output_type": "stream",
     "text": [
      "Good Afternoon,this is my fuction\n"
     ]
    }
   ],
   "source": [
    "#functions\n",
    "def displaymsg():\n",
    "    print(\"Good Afternoon,this is my fuction\")\n",
    "displaymsg()"
   ]
  },
  {
   "cell_type": "code",
   "execution_count": 9,
   "id": "03d4acc0",
   "metadata": {},
   "outputs": [
    {
     "name": "stdout",
     "output_type": "stream",
     "text": [
      "Books\n",
      "Shoes\n",
      "cloth\n",
      "bag\n"
     ]
    }
   ],
   "source": [
    "def mylist():\n",
    "    Lists=(\"Books\",\"Shoes\",\"cloth\",\"bag\")\n",
    "    for i in Lists:\n",
    "        print(i)\n",
    "mylist()"
   ]
  },
  {
   "cell_type": "code",
   "execution_count": 12,
   "id": "f024d0c5",
   "metadata": {},
   "outputs": [
    {
     "data": {
      "text/plain": [
       "35"
      ]
     },
     "execution_count": 12,
     "metadata": {},
     "output_type": "execute_result"
    }
   ],
   "source": [
    "def addition():\n",
    "    a=10\n",
    "    b=25\n",
    "    return a+b\n",
    "addition()"
   ]
  },
  {
   "cell_type": "code",
   "execution_count": 15,
   "id": "e5e1cd44",
   "metadata": {},
   "outputs": [
    {
     "data": {
      "text/plain": [
       "9"
      ]
     },
     "execution_count": 15,
     "metadata": {},
     "output_type": "execute_result"
    }
   ],
   "source": [
    "def subtraction():\n",
    "    a=14\n",
    "    b=23\n",
    "    return b-a\n",
    "subtraction()"
   ]
  },
  {
   "cell_type": "code",
   "execution_count": 16,
   "id": "c50811ad",
   "metadata": {},
   "outputs": [
    {
     "data": {
      "text/plain": [
       "250"
      ]
     },
     "execution_count": 16,
     "metadata": {},
     "output_type": "execute_result"
    }
   ],
   "source": [
    "def add_2(a,b):\n",
    "    return a*b\n",
    "add_2(50,5)"
   ]
  },
  {
   "cell_type": "code",
   "execution_count": 24,
   "id": "5c10bc49",
   "metadata": {},
   "outputs": [
    {
     "name": "stdout",
     "output_type": "stream",
     "text": [
      "250\n"
     ]
    }
   ],
   "source": [
    "def add_2():\n",
    "    a=50\n",
    "    b=5\n",
    "    print (a*b)\n",
    "add_2()"
   ]
  },
  {
   "cell_type": "code",
   "execution_count": 31,
   "id": "2c085a82",
   "metadata": {},
   "outputs": [
    {
     "name": "stdout",
     "output_type": "stream",
     "text": [
      "first name: Hammed \n",
      " Last name: Oloyede\n",
      "first name: gboyega \n",
      " Last name: Oloyede\n"
     ]
    }
   ],
   "source": [
    "def family(fname,lname):\n",
    "    print(\"first name:\",fname,\"\\n\",\n",
    "    \"Last name:\",lname)\n",
    "family(\"Hammed\",\"Oloyede\")\n",
    "family(\"gboyega\",\"Oloyede\")"
   ]
  },
  {
   "cell_type": "code",
   "execution_count": 1,
   "id": "00d12f6c",
   "metadata": {},
   "outputs": [
    {
     "name": "stdout",
     "output_type": "stream",
     "text": [
      "states: Osun \n",
      " local: Ayedaade\n",
      "states: Oyo \n",
      " local: Egbeda\n",
      "states: Kano \n",
      " local: Bichi\n",
      "states: Ogun \n",
      " local: Sagamu\n",
      "states: Delta \n",
      " local: Asaba\n"
     ]
    }
   ],
   "source": [
    "#write a function to display 5states nd one local govt each\n",
    "\n",
    "def States(states,local):\n",
    "    print(\"states:\",states,\"\\n\",\n",
    "          \"local:\",local)\n",
    "States(\"Osun\",\"Ayedaade\")\n",
    "States(\"Oyo\",\"Egbeda\")\n",
    "States(\"Kano\",\"Bichi\")\n",
    "States(\"Ogun\",\"Sagamu\")\n",
    "States(\"Delta\",\"Asaba\")\n",
    "\n",
    "\n",
    "\n"
   ]
  },
  {
   "cell_type": "code",
   "execution_count": 12,
   "id": "452d744b",
   "metadata": {},
   "outputs": [
    {
     "name": "stdout",
     "output_type": "stream",
     "text": [
      "number: 1\n",
      "number: 2\n",
      "number: 3\n",
      "number: 4\n",
      "number: 5\n",
      "number: 6\n",
      "number: 7\n",
      "number: 8\n",
      "number: 9\n",
      "number: 10\n"
     ]
    }
   ],
   "source": [
    "#arbitrary argments\n",
    "def digit(*number):\n",
    "    number=number\n",
    "    for i in number:\n",
    "     print(\"number:\",i)\n",
    "digit(1,2,3,4,5,6,7,8,9,10)"
   ]
  },
  {
   "cell_type": "code",
   "execution_count": 10,
   "id": "96ba578e",
   "metadata": {},
   "outputs": [
    {
     "name": "stdout",
     "output_type": "stream",
     "text": [
      "Osun\n",
      "Ogun\n",
      "Oyo\n"
     ]
    }
   ],
   "source": [
    "def nigeria (state1,state2,state3):\n",
    "    nigeria_states=[state1,state2,state3]\n",
    "    for i in nigeria_states:\n",
    "      print(i)\n",
    "nigeria(state1=\"Osun\",state2=\"Ogun\",state3=\"Oyo\")"
   ]
  },
  {
   "cell_type": "code",
   "execution_count": 28,
   "id": "6f42725b",
   "metadata": {},
   "outputs": [
    {
     "name": "stdout",
     "output_type": "stream",
     "text": [
      "states1 oklahoma\n",
      "states2 illinois\n",
      "states3 texas\n"
     ]
    }
   ],
   "source": [
    "def united_states(**states):\n",
    "    x=states\n",
    "    for i,y in x.items():\n",
    "        print(i,y)\n",
    "united_states(states1=\"oklahoma\",states2=\"illinois\",states3=\"texas\")"
   ]
  },
  {
   "cell_type": "code",
   "execution_count": 18,
   "id": "66855c7e",
   "metadata": {},
   "outputs": [
    {
     "name": "stdout",
     "output_type": "stream",
     "text": [
      "{'numbber1': 1, 'number2': 2, 'number3': 3, 'number4': 4, 'number5': 5, 'number6': 6, 'number7': 7, 'number8': 8, 'number9': 9, 'number10': 10}\n",
      "<function digit at 0x000001D1A097E9E0>\n"
     ]
    }
   ],
   "source": [
    "#arbitrary(keyword)\n",
    "def digit(**number):\n",
    " c=number\n",
    " print(c)\n",
    " number=(\"number:\",number,\"\\n\")\n",
    " print(digit)\n",
    "digit(numbber1=1,number2=2,number3=3,number4=4,number5=5,number6=6,number7=7,number8=8,number9=9,number10=10)"
   ]
  },
  {
   "cell_type": "code",
   "execution_count": 15,
   "id": "766247e7",
   "metadata": {},
   "outputs": [
    {
     "name": "stdout",
     "output_type": "stream",
     "text": [
      "guava\n",
      "banana\n",
      "oranges\n",
      "watermelon\n",
      "spinach\n",
      "salad\n",
      "lettuce\n"
     ]
    }
   ],
   "source": [
    "#fuctions to display food with parameters\n",
    "def my_function(food):\n",
    "    for x in food:\n",
    "        print(x)\n",
    "fruits=[\"guava\",\"banana\",\"oranges\",\"watermelon\"]\n",
    "vegetable=[\"spinach\",\"salad\",\"lettuce\"]\n",
    "my_function(fruits)\n",
    "my_function(vegetable)"
   ]
  },
  {
   "cell_type": "code",
   "execution_count": 19,
   "id": "8a8c15e0",
   "metadata": {},
   "outputs": [
    {
     "name": "stdout",
     "output_type": "stream",
     "text": [
      "Enter the First number:3\n",
      "Enter the Second number:3\n",
      "3.0+3.0=\n",
      "6.0\n",
      "3.0-3.0=\n",
      "0.0\n",
      "3.0*3.0=\n",
      "9.0\n",
      "3.0/3.0=\n",
      "1.0\n"
     ]
    }
   ],
   "source": [
    "#basic calculator/prompting users input\n",
    "\n",
    "n1= float(input(\"Enter the First number:\"))\n",
    "n2= float(input(\"Enter the Second number:\"))\n",
    "print(\"{}+{}=\".format(n1,n2))\n",
    "print(n1+n2)\n",
    "print(\"{}-{}=\".format(n1,n2))\n",
    "print(n1-n2)\n",
    "print(\"{}*{}=\".format(n1,n2))\n",
    "print(n1*n2)\n",
    "print(\"{}/{}=\".format(n1,n2))\n",
    "print(n1/n2)\n"
   ]
  },
  {
   "cell_type": "code",
   "execution_count": 2,
   "id": "87e05a9d",
   "metadata": {},
   "outputs": [
    {
     "name": "stdout",
     "output_type": "stream",
     "text": [
      "select operation\n",
      "1.Addition\n",
      "2.Subtraction\n",
      "3.Multiplication\n",
      "4.Division\n",
      "\n",
      "Enter choice of operation 1/2/3/4:1\n",
      "Enter the first number:200\n",
      "Enter the second number:400\n",
      "200.0 + 400.0 = 600.0\n"
     ]
    }
   ],
   "source": [
    "#basic calculator\n",
    "def addition(n1,n2):\n",
    "    return n1+n2\n",
    "def subtraction(n1,n2):\n",
    "    return n1-n2\n",
    "def multiplication(n1,n2):\n",
    "    return n1*n2\n",
    "def division(n1,n2):\n",
    "    return n1/n2\n",
    "print(\"select operation\")\n",
    "print(\n",
    "     \"1.Addition\\n\"\n",
    "     \"2.Subtraction\\n\"\n",
    "     \"3.Multiplication\\n\"\n",
    "     \"4.Division\\n\")\n",
    "operation= int(input(\"Enter choice of operation 1/2/3/4:\"))\n",
    "n1= float(input(\"Enter the first number:\"))\n",
    "n2= float(input(\"Enter the second number:\"))\n",
    "if operation==1:\n",
    "    print(n1,\"+\",n2,\"=\",addition(n1,n2))\n",
    "elif operation==2:\n",
    "    print(n1,\"-\",n2,\"=\",subtraction(n1,n2))\n",
    "elif operation==3:\n",
    "    print(n1,\"*\",n2,\"=\",multiplication(n1,n2))\n",
    "elif operation==4:\n",
    "    print(n1,\"/\",n2,\"=\",division(n1,n2))\n",
    "    \n",
    "else:\n",
    "        print(\"invalid input\")"
   ]
  },
  {
   "cell_type": "code",
   "execution_count": 3,
   "id": "de8f48e6",
   "metadata": {},
   "outputs": [
    {
     "name": "stdout",
     "output_type": "stream",
     "text": [
      "Enter a temperature in Celsius: 240\n",
      "In Fahrenheit, that is 464.0\n"
     ]
    }
   ],
   "source": [
    "#conversion celsius to farhenheit\n",
    "temp = eval(input('Enter a temperature in Celsius: '))\n",
    "print('In Fahrenheit, that is', 9/5*temp+32)"
   ]
  },
  {
   "cell_type": "code",
   "execution_count": 3,
   "id": "62f7a2b1",
   "metadata": {},
   "outputs": [
    {
     "name": "stdout",
     "output_type": "stream",
     "text": [
      "100\n"
     ]
    }
   ],
   "source": [
    "x=lambda j:j*10\n",
    "print(x(10))"
   ]
  },
  {
   "cell_type": "code",
   "execution_count": 4,
   "id": "ef902071",
   "metadata": {},
   "outputs": [
    {
     "name": "stdout",
     "output_type": "stream",
     "text": [
      "7.142857142857143\n"
     ]
    }
   ],
   "source": [
    "d=lambda a,b,c:a*b/c\n",
    "print(d(5,10,7))"
   ]
  },
  {
   "cell_type": "code",
   "execution_count": 1,
   "id": "3197cc78",
   "metadata": {},
   "outputs": [
    {
     "name": "stdout",
     "output_type": "stream",
     "text": [
      "30\n"
     ]
    }
   ],
   "source": [
    "def multiple(n):\n",
    " return lambda a:a*n\n",
    "multiple_of = multiple(3)\n",
    "print(multiple_of(10))"
   ]
  },
  {
   "cell_type": "code",
   "execution_count": 10,
   "id": "7f7eb314",
   "metadata": {},
   "outputs": [
    {
     "name": "stdout",
     "output_type": "stream",
     "text": [
      "true\n"
     ]
    }
   ],
   "source": [
    "if 10>9:\n",
    "    print(\"true\")\n",
    "else:\n",
    "    print(\"false\")"
   ]
  },
  {
   "cell_type": "code",
   "execution_count": 11,
   "id": "292f14bd",
   "metadata": {},
   "outputs": [
    {
     "name": "stdout",
     "output_type": "stream",
     "text": [
      "a is greater than b\n"
     ]
    }
   ],
   "source": [
    "a=200\n",
    "b=35\n",
    "if a>b:\n",
    "    print(\"a is greater than b\")\n",
    "else:\n",
    "    print(\"b is greater than a\")"
   ]
  },
  {
   "cell_type": "code",
   "execution_count": 16,
   "id": "5a76eb24",
   "metadata": {},
   "outputs": [
    {
     "name": "stdout",
     "output_type": "stream",
     "text": [
      "True\n",
      "True\n",
      "True\n",
      "True\n"
     ]
    }
   ],
   "source": [
    "x=\"hello\"\n",
    "y=15\n",
    "print(bool(\"hello\"))\n",
    "print(bool(15))\n",
    "print(bool(x))\n",
    "print(bool(y))"
   ]
  },
  {
   "cell_type": "code",
   "execution_count": 24,
   "id": "7ee1de89",
   "metadata": {},
   "outputs": [
    {
     "name": "stdout",
     "output_type": "stream",
     "text": [
      "True\n",
      "True\n",
      "True\n"
     ]
    }
   ],
   "source": [
    "print(bool(\"abc\"))\n",
    "print(bool(123))\n",
    "print(bool([\"apple\",\"mango\",\"orange\"]))"
   ]
  },
  {
   "cell_type": "code",
   "execution_count": 5,
   "id": "6a083e5c",
   "metadata": {},
   "outputs": [
    {
     "name": "stdout",
     "output_type": "stream",
     "text": [
      "1\n",
      "1\n",
      "1\n"
     ]
    }
   ],
   "source": [
    "x=y=z=1\n",
    "print(y)\n",
    "print(x)\n",
    "print(z)"
   ]
  },
  {
   "cell_type": "code",
   "execution_count": 11,
   "id": "9ad99006",
   "metadata": {},
   "outputs": [
    {
     "name": "stdout",
     "output_type": "stream",
     "text": [
      "1\n",
      "2\n",
      "abc\n"
     ]
    }
   ],
   "source": [
    "x,y,z=1,2,\"abc\"\n",
    "print(x)\n",
    "print(y)\n",
    "print(z)"
   ]
  },
  {
   "cell_type": "code",
   "execution_count": null,
   "id": "c0dfbb09",
   "metadata": {},
   "outputs": [],
   "source": []
  }
 ],
 "metadata": {
  "kernelspec": {
   "display_name": "Python 3 (ipykernel)",
   "language": "python",
   "name": "python3"
  },
  "language_info": {
   "codemirror_mode": {
    "name": "ipython",
    "version": 3
   },
   "file_extension": ".py",
   "mimetype": "text/x-python",
   "name": "python",
   "nbconvert_exporter": "python",
   "pygments_lexer": "ipython3",
   "version": "3.10.9"
  }
 },
 "nbformat": 4,
 "nbformat_minor": 5
}
