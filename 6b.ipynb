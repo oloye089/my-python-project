{
 "cells": [
  {
   "cell_type": "code",
   "execution_count": 2,
   "id": "d1dd7d99",
   "metadata": {},
   "outputs": [
    {
     "name": "stdout",
     "output_type": "stream",
     "text": [
      "Enter your username: Rotimi\n",
      "Enter your address: Ring road\n",
      "Enter your age: 34\n",
      "Enter your phone Number: 819380133791\n",
      "My name is Rotimi I am 34 years old. I live in  Ring road You can reach me on 819380133791\n"
     ]
    }
   ],
   "source": [
    "#using an input function in python\n",
    "username = input(\"Enter your username: \")\n",
    "address = input(\"Enter your address: \")\n",
    "age = int(input(\"Enter your age: \"))\n",
    "phoneNo = input(\"Enter your phone Number: \")\n",
    "\n",
    "print(\"My name is\", username, \"I am\", age, \"years old. I live in \", address, \"You can reach me on\", phoneNo)"
   ]
  },
  {
   "cell_type": "code",
   "execution_count": 3,
   "id": "b3458e6e",
   "metadata": {},
   "outputs": [
    {
     "name": "stdout",
     "output_type": "stream",
     "text": [
      "Enter your name: Dayo Amoo\n",
      "Enter your email: jingping@email.com\n",
      "Enter your address: adedade estate\n",
      "The Physics student's name is Dayo Amoo\n",
      "His school email address as a student is jingping@email.com\n",
      "He lives in adedade estate\n"
     ]
    }
   ],
   "source": [
    "# Students Info\n",
    "students_name = input(\"Enter your name: \")\n",
    "students_email = input(\"Enter your email: \")\n",
    "students_address = input(\"Enter your address: \")\n",
    "print(\"The Physics student's name is\",students_name)\n",
    "print(\"His school email address as a student is\",students_email)\n",
    "print(\"He lives in\",students_address)"
   ]
  },
  {
   "cell_type": "code",
   "execution_count": 4,
   "id": "fcdd649d",
   "metadata": {},
   "outputs": [
    {
     "name": "stdout",
     "output_type": "stream",
     "text": [
      "<class 'int'>\n",
      "<class 'str'>\n",
      "<class 'bool'>\n",
      "<class 'float'>\n"
     ]
    }
   ],
   "source": [
    "a=10\n",
    "b=\"name\"\n",
    "c= True\n",
    "d= 300.0\n",
    "print (type(a))\n",
    "print (type(b))\n",
    "print (type(c))\n",
    "print(type(d))\n",
    "\n"
   ]
  },
  {
   "cell_type": "code",
   "execution_count": 10,
   "id": "2154f79d",
   "metadata": {},
   "outputs": [
    {
     "name": "stdout",
     "output_type": "stream",
     "text": [
      "3\n",
      "3\n",
      "200.0\n",
      "55\n",
      "(1+0j)\n"
     ]
    }
   ],
   "source": [
    "value1= float(200)\n",
    "value2= int(55.667)\n",
    "value3=complex(1)\n",
    "#value4= str(1)\n",
    "#value5= str(2)\n",
    "value4_1= int(1)\n",
    "value5_2= int(2)\n",
    "value6= value4_1+value5_2\n",
    "print (value6)\n",
    "print(value6)\n",
    "print (value1)\n",
    "print (value2)\n",
    "print(value3)"
   ]
  },
  {
   "cell_type": "code",
   "execution_count": 11,
   "id": "c4b49c80",
   "metadata": {},
   "outputs": [
    {
     "name": "stdout",
     "output_type": "stream",
     "text": [
      "False\n",
      "False\n",
      "False\n",
      "True\n",
      "True\n"
     ]
    }
   ],
   "source": [
    "print(10==20)\n",
    "print(\"a\"==\"b\")\n",
    "print(10!=10)\n",
    "print(10<20)\n",
    "print(20<=30)"
   ]
  },
  {
   "cell_type": "code",
   "execution_count": 15,
   "id": "5f2d2463",
   "metadata": {},
   "outputs": [
    {
     "name": "stdout",
     "output_type": "stream",
     "text": [
      "True\n"
     ]
    }
   ],
   "source": [
    "x=10\n",
    "if(x==10):\n",
    " print(\"True\")\n",
    "else:\n",
    "    print(\"false\")\n",
    "    "
   ]
  },
  {
   "cell_type": "code",
   "execution_count": 16,
   "id": "397b53f2",
   "metadata": {},
   "outputs": [
    {
     "name": "stdout",
     "output_type": "stream",
     "text": [
      "False\n"
     ]
    }
   ],
   "source": [
    "print(bool(15==10))"
   ]
  },
  {
   "cell_type": "code",
   "execution_count": 17,
   "id": "61802943",
   "metadata": {},
   "outputs": [
    {
     "name": "stdout",
     "output_type": "stream",
     "text": [
      "False\n"
     ]
    }
   ],
   "source": [
    "name1=\"Hammed\"\n",
    "name2=\"Gbenga\"\n",
    "print(bool(name1==name2))"
   ]
  },
  {
   "cell_type": "code",
   "execution_count": 19,
   "id": "096336c6",
   "metadata": {},
   "outputs": [
    {
     "name": "stdout",
     "output_type": "stream",
     "text": [
      "2\n"
     ]
    }
   ],
   "source": [
    "y=2\n",
    "def display():\n",
    "    print(y)\n",
    "display()\n",
    "    "
   ]
  },
  {
   "cell_type": "code",
   "execution_count": 25,
   "id": "5c378070",
   "metadata": {},
   "outputs": [
    {
     "name": "stdout",
     "output_type": "stream",
     "text": [
      "1000\n",
      "1000\n"
     ]
    }
   ],
   "source": [
    "def local():\n",
    "    global z\n",
    "    z=1000\n",
    "    print (z)\n",
    "local()\n",
    "print(z)"
   ]
  },
  {
   "cell_type": "code",
   "execution_count": null,
   "id": "2f6b3b32",
   "metadata": {},
   "outputs": [],
   "source": []
  }
 ],
 "metadata": {
  "kernelspec": {
   "display_name": "Python 3 (ipykernel)",
   "language": "python",
   "name": "python3"
  },
  "language_info": {
   "codemirror_mode": {
    "name": "ipython",
    "version": 3
   },
   "file_extension": ".py",
   "mimetype": "text/x-python",
   "name": "python",
   "nbconvert_exporter": "python",
   "pygments_lexer": "ipython3",
   "version": "3.10.9"
  }
 },
 "nbformat": 4,
 "nbformat_minor": 5
}
